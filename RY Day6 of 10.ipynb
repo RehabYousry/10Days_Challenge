{
 "cells": [
  {
   "cell_type": "markdown",
   "id": "d58652d2",
   "metadata": {},
   "source": [
    "# Day 6 : Data Loading and Manipulation and Visulatiozation"
   ]
  },
  {
   "cell_type": "markdown",
   "id": "518fb8f4",
   "metadata": {},
   "source": [
    "### You can use the following liberaries for your assignment:\n",
    "> Numpy, Pandas, Matplotlib, Seaborn, LASIO, Welly"
   ]
  },
  {
   "cell_type": "markdown",
   "id": "f8701943",
   "metadata": {},
   "source": [
    "## Kindly load the las file of Exported.csv file from the data folder\n",
    "## Perform the below Tasks:\n",
    "\n",
    ">1. Investigate the component of the data file (number of columns , numbers of observations, Null values, normal statistics) \n",
    "2. Plot the null values as bars\n",
    "3. Create a copy of the data frame and drop the NAN values\n",
    "3. Use the other copy to fill-in NAN values.\n",
    "4. Which option do you prefer to work with regarding the relationship with PHIE and DT or PHIE and RHOB\n",
    "\n"
   ]
  },
  {
   "cell_type": "code",
   "execution_count": 1,
   "id": "6c8c17ef",
   "metadata": {},
   "outputs": [],
   "source": [
    "import numpy as np\n",
    "import pandas as pd\n",
    "import matplotlib.pyplot as plt\n",
    "import seaborn as sb\n",
    "import lasio\n",
    "import welly\n",
    "\n",
    "from IPython.display import display"
   ]
  },
  {
   "cell_type": "code",
   "execution_count": 2,
   "id": "f5c42f00",
   "metadata": {},
   "outputs": [
    {
     "data": {
      "text/html": [
       "<div>\n",
       "<style scoped>\n",
       "    .dataframe tbody tr th:only-of-type {\n",
       "        vertical-align: middle;\n",
       "    }\n",
       "\n",
       "    .dataframe tbody tr th {\n",
       "        vertical-align: top;\n",
       "    }\n",
       "\n",
       "    .dataframe thead th {\n",
       "        text-align: right;\n",
       "    }\n",
       "</style>\n",
       "<table border=\"1\" class=\"dataframe\">\n",
       "  <thead>\n",
       "    <tr style=\"text-align: right;\">\n",
       "      <th></th>\n",
       "      <th>DEPTH</th>\n",
       "      <th>RHOB</th>\n",
       "      <th>DT</th>\n",
       "      <th>GR</th>\n",
       "      <th>AI</th>\n",
       "      <th>AI_REL</th>\n",
       "      <th>PHIE</th>\n",
       "      <th>MD</th>\n",
       "      <th>VP</th>\n",
       "    </tr>\n",
       "  </thead>\n",
       "  <tbody>\n",
       "    <tr>\n",
       "      <th>0</th>\n",
       "      <td>48.0000</td>\n",
       "      <td>NaN</td>\n",
       "      <td>524.0485</td>\n",
       "      <td>NaN</td>\n",
       "      <td>3820257.00</td>\n",
       "      <td>-455.6956</td>\n",
       "      <td>NaN</td>\n",
       "      <td>48.0000</td>\n",
       "      <td>1.596514e+07</td>\n",
       "    </tr>\n",
       "    <tr>\n",
       "      <th>1</th>\n",
       "      <td>48.1500</td>\n",
       "      <td>NaN</td>\n",
       "      <td>524.0410</td>\n",
       "      <td>NaN</td>\n",
       "      <td>3820311.75</td>\n",
       "      <td>-455.6956</td>\n",
       "      <td>NaN</td>\n",
       "      <td>48.1500</td>\n",
       "      <td>1.596491e+07</td>\n",
       "    </tr>\n",
       "    <tr>\n",
       "      <th>2</th>\n",
       "      <td>48.3000</td>\n",
       "      <td>NaN</td>\n",
       "      <td>524.0336</td>\n",
       "      <td>NaN</td>\n",
       "      <td>3820366.25</td>\n",
       "      <td>-455.6956</td>\n",
       "      <td>NaN</td>\n",
       "      <td>48.3000</td>\n",
       "      <td>1.596468e+07</td>\n",
       "    </tr>\n",
       "    <tr>\n",
       "      <th>3</th>\n",
       "      <td>48.4500</td>\n",
       "      <td>NaN</td>\n",
       "      <td>524.0262</td>\n",
       "      <td>NaN</td>\n",
       "      <td>3820419.75</td>\n",
       "      <td>-455.6956</td>\n",
       "      <td>NaN</td>\n",
       "      <td>48.4500</td>\n",
       "      <td>1.596446e+07</td>\n",
       "    </tr>\n",
       "    <tr>\n",
       "      <th>4</th>\n",
       "      <td>48.6000</td>\n",
       "      <td>NaN</td>\n",
       "      <td>524.0190</td>\n",
       "      <td>NaN</td>\n",
       "      <td>3820472.25</td>\n",
       "      <td>-455.6956</td>\n",
       "      <td>NaN</td>\n",
       "      <td>48.6000</td>\n",
       "      <td>1.596424e+07</td>\n",
       "    </tr>\n",
       "    <tr>\n",
       "      <th>...</th>\n",
       "      <td>...</td>\n",
       "      <td>...</td>\n",
       "      <td>...</td>\n",
       "      <td>...</td>\n",
       "      <td>...</td>\n",
       "      <td>...</td>\n",
       "      <td>...</td>\n",
       "      <td>...</td>\n",
       "      <td>...</td>\n",
       "    </tr>\n",
       "    <tr>\n",
       "      <th>9675</th>\n",
       "      <td>1499.2500</td>\n",
       "      <td>1787.5444</td>\n",
       "      <td>532.1727</td>\n",
       "      <td>27.6273</td>\n",
       "      <td>3359011.00</td>\n",
       "      <td>-239115.9375</td>\n",
       "      <td>NaN</td>\n",
       "      <td>1499.2500</td>\n",
       "      <td>1.621264e+07</td>\n",
       "    </tr>\n",
       "    <tr>\n",
       "      <th>9676</th>\n",
       "      <td>1499.4000</td>\n",
       "      <td>1814.1691</td>\n",
       "      <td>534.8610</td>\n",
       "      <td>28.5281</td>\n",
       "      <td>3391772.00</td>\n",
       "      <td>-239115.9375</td>\n",
       "      <td>NaN</td>\n",
       "      <td>1499.4000</td>\n",
       "      <td>1.629454e+07</td>\n",
       "    </tr>\n",
       "    <tr>\n",
       "      <th>9677</th>\n",
       "      <td>1499.5500</td>\n",
       "      <td>1861.6497</td>\n",
       "      <td>537.1902</td>\n",
       "      <td>28.5813</td>\n",
       "      <td>3465524.00</td>\n",
       "      <td>-239115.9375</td>\n",
       "      <td>NaN</td>\n",
       "      <td>1499.5500</td>\n",
       "      <td>1.636550e+07</td>\n",
       "    </tr>\n",
       "    <tr>\n",
       "      <th>9678</th>\n",
       "      <td>1499.7001</td>\n",
       "      <td>1880.3978</td>\n",
       "      <td>537.2630</td>\n",
       "      <td>28.5813</td>\n",
       "      <td>3499957.75</td>\n",
       "      <td>-239115.9375</td>\n",
       "      <td>NaN</td>\n",
       "      <td>1499.7001</td>\n",
       "      <td>1.636772e+07</td>\n",
       "    </tr>\n",
       "    <tr>\n",
       "      <th>9679</th>\n",
       "      <td>1499.8501</td>\n",
       "      <td>1856.3350</td>\n",
       "      <td>537.3831</td>\n",
       "      <td>27.9759</td>\n",
       "      <td>3454404.00</td>\n",
       "      <td>-212640.7031</td>\n",
       "      <td>NaN</td>\n",
       "      <td>1499.8501</td>\n",
       "      <td>1.637138e+07</td>\n",
       "    </tr>\n",
       "  </tbody>\n",
       "</table>\n",
       "<p>9680 rows × 9 columns</p>\n",
       "</div>"
      ],
      "text/plain": [
       "          DEPTH       RHOB        DT       GR          AI       AI_REL  PHIE  \\\n",
       "0       48.0000        NaN  524.0485      NaN  3820257.00    -455.6956   NaN   \n",
       "1       48.1500        NaN  524.0410      NaN  3820311.75    -455.6956   NaN   \n",
       "2       48.3000        NaN  524.0336      NaN  3820366.25    -455.6956   NaN   \n",
       "3       48.4500        NaN  524.0262      NaN  3820419.75    -455.6956   NaN   \n",
       "4       48.6000        NaN  524.0190      NaN  3820472.25    -455.6956   NaN   \n",
       "...         ...        ...       ...      ...         ...          ...   ...   \n",
       "9675  1499.2500  1787.5444  532.1727  27.6273  3359011.00 -239115.9375   NaN   \n",
       "9676  1499.4000  1814.1691  534.8610  28.5281  3391772.00 -239115.9375   NaN   \n",
       "9677  1499.5500  1861.6497  537.1902  28.5813  3465524.00 -239115.9375   NaN   \n",
       "9678  1499.7001  1880.3978  537.2630  28.5813  3499957.75 -239115.9375   NaN   \n",
       "9679  1499.8501  1856.3350  537.3831  27.9759  3454404.00 -212640.7031   NaN   \n",
       "\n",
       "             MD            VP  \n",
       "0       48.0000  1.596514e+07  \n",
       "1       48.1500  1.596491e+07  \n",
       "2       48.3000  1.596468e+07  \n",
       "3       48.4500  1.596446e+07  \n",
       "4       48.6000  1.596424e+07  \n",
       "...         ...           ...  \n",
       "9675  1499.2500  1.621264e+07  \n",
       "9676  1499.4000  1.629454e+07  \n",
       "9677  1499.5500  1.636550e+07  \n",
       "9678  1499.7001  1.636772e+07  \n",
       "9679  1499.8501  1.637138e+07  \n",
       "\n",
       "[9680 rows x 9 columns]"
      ]
     },
     "metadata": {},
     "output_type": "display_data"
    }
   ],
   "source": [
    "df = pd.read_csv(\"C:/Users/HP/Documents/GitHub/GeoML-2.0/10DaysChallenge/Dutch_F3_Logs/Exported.csv\", delimiter=',')\n",
    "display(df)"
   ]
  },
  {
   "cell_type": "code",
   "execution_count": 3,
   "id": "6d5b5b3e",
   "metadata": {},
   "outputs": [
    {
     "data": {
      "text/plain": [
       "'Col, Rows'"
      ]
     },
     "metadata": {},
     "output_type": "display_data"
    },
    {
     "data": {
      "text/plain": [
       "(9680, 9)"
      ]
     },
     "metadata": {},
     "output_type": "display_data"
    },
    {
     "name": "stdout",
     "output_type": "stream",
     "text": [
      "<class 'pandas.core.frame.DataFrame'>\n",
      "RangeIndex: 9680 entries, 0 to 9679\n",
      "Data columns (total 9 columns):\n",
      " #   Column  Non-Null Count  Dtype  \n",
      "---  ------  --------------  -----  \n",
      " 0   DEPTH   9680 non-null   float64\n",
      " 1   RHOB    8253 non-null   float64\n",
      " 2   DT      9680 non-null   float64\n",
      " 3   GR      9666 non-null   float64\n",
      " 4   AI      9680 non-null   float64\n",
      " 5   AI_REL  9680 non-null   float64\n",
      " 6   PHIE    4906 non-null   float64\n",
      " 7   MD      9680 non-null   float64\n",
      " 8   VP      9680 non-null   float64\n",
      "dtypes: float64(9)\n",
      "memory usage: 680.8 KB\n"
     ]
    },
    {
     "data": {
      "text/plain": [
       "'info'"
      ]
     },
     "metadata": {},
     "output_type": "display_data"
    },
    {
     "data": {
      "text/plain": [
       "None"
      ]
     },
     "metadata": {},
     "output_type": "display_data"
    },
    {
     "data": {
      "text/plain": [
       "'Null values'"
      ]
     },
     "metadata": {},
     "output_type": "display_data"
    },
    {
     "data": {
      "text/plain": [
       "DEPTH        0\n",
       "RHOB      1427\n",
       "DT           0\n",
       "GR          14\n",
       "AI           0\n",
       "AI_REL       0\n",
       "PHIE      4774\n",
       "MD           0\n",
       "VP           0\n",
       "dtype: int64"
      ]
     },
     "metadata": {},
     "output_type": "display_data"
    },
    {
     "data": {
      "text/plain": [
       "'Null values%'"
      ]
     },
     "metadata": {},
     "output_type": "display_data"
    },
    {
     "data": {
      "text/plain": [
       "DEPTH      0.000000\n",
       "RHOB      14.741736\n",
       "DT         0.000000\n",
       "GR         0.144628\n",
       "AI         0.000000\n",
       "AI_REL     0.000000\n",
       "PHIE      49.318182\n",
       "MD         0.000000\n",
       "VP         0.000000\n",
       "dtype: float64"
      ]
     },
     "metadata": {},
     "output_type": "display_data"
    },
    {
     "data": {
      "text/plain": [
       "'normal statistics'"
      ]
     },
     "metadata": {},
     "output_type": "display_data"
    },
    {
     "data": {
      "text/html": [
       "<div>\n",
       "<style scoped>\n",
       "    .dataframe tbody tr th:only-of-type {\n",
       "        vertical-align: middle;\n",
       "    }\n",
       "\n",
       "    .dataframe tbody tr th {\n",
       "        vertical-align: top;\n",
       "    }\n",
       "\n",
       "    .dataframe thead th {\n",
       "        text-align: right;\n",
       "    }\n",
       "</style>\n",
       "<table border=\"1\" class=\"dataframe\">\n",
       "  <thead>\n",
       "    <tr style=\"text-align: right;\">\n",
       "      <th></th>\n",
       "      <th>DEPTH</th>\n",
       "      <th>RHOB</th>\n",
       "      <th>DT</th>\n",
       "      <th>GR</th>\n",
       "      <th>AI</th>\n",
       "      <th>AI_REL</th>\n",
       "      <th>PHIE</th>\n",
       "      <th>MD</th>\n",
       "      <th>VP</th>\n",
       "    </tr>\n",
       "  </thead>\n",
       "  <tbody>\n",
       "    <tr>\n",
       "      <th>count</th>\n",
       "      <td>9680.000000</td>\n",
       "      <td>8253.000000</td>\n",
       "      <td>9680.000000</td>\n",
       "      <td>9666.000000</td>\n",
       "      <td>9.680000e+03</td>\n",
       "      <td>9680.000000</td>\n",
       "      <td>4906.000000</td>\n",
       "      <td>9680.000000</td>\n",
       "      <td>9.680000e+03</td>\n",
       "    </tr>\n",
       "    <tr>\n",
       "      <th>mean</th>\n",
       "      <td>773.925016</td>\n",
       "      <td>1975.091074</td>\n",
       "      <td>495.026839</td>\n",
       "      <td>46.613531</td>\n",
       "      <td>4.078518e+06</td>\n",
       "      <td>5193.728898</td>\n",
       "      <td>0.304522</td>\n",
       "      <td>773.925016</td>\n",
       "      <td>1.508099e+07</td>\n",
       "    </tr>\n",
       "    <tr>\n",
       "      <th>std</th>\n",
       "      <td>419.177962</td>\n",
       "      <td>294.677828</td>\n",
       "      <td>50.861145</td>\n",
       "      <td>23.484662</td>\n",
       "      <td>8.776878e+05</td>\n",
       "      <td>193455.679167</td>\n",
       "      <td>0.064282</td>\n",
       "      <td>419.177962</td>\n",
       "      <td>1.549485e+06</td>\n",
       "    </tr>\n",
       "    <tr>\n",
       "      <th>min</th>\n",
       "      <td>48.000000</td>\n",
       "      <td>1350.444700</td>\n",
       "      <td>368.114700</td>\n",
       "      <td>1.339200</td>\n",
       "      <td>2.035267e+06</td>\n",
       "      <td>-617319.750000</td>\n",
       "      <td>0.203900</td>\n",
       "      <td>48.000000</td>\n",
       "      <td>1.121461e+07</td>\n",
       "    </tr>\n",
       "    <tr>\n",
       "      <th>25%</th>\n",
       "      <td>410.962500</td>\n",
       "      <td>1812.400000</td>\n",
       "      <td>460.693600</td>\n",
       "      <td>23.527000</td>\n",
       "      <td>3.658766e+06</td>\n",
       "      <td>-95113.828100</td>\n",
       "      <td>0.257900</td>\n",
       "      <td>410.962500</td>\n",
       "      <td>1.403503e+07</td>\n",
       "    </tr>\n",
       "    <tr>\n",
       "      <th>50%</th>\n",
       "      <td>773.925000</td>\n",
       "      <td>2096.345000</td>\n",
       "      <td>505.393400</td>\n",
       "      <td>48.765250</td>\n",
       "      <td>3.953107e+06</td>\n",
       "      <td>2603.301500</td>\n",
       "      <td>0.283000</td>\n",
       "      <td>773.925000</td>\n",
       "      <td>1.539681e+07</td>\n",
       "    </tr>\n",
       "    <tr>\n",
       "      <th>75%</th>\n",
       "      <td>1136.887575</td>\n",
       "      <td>2210.906000</td>\n",
       "      <td>521.642300</td>\n",
       "      <td>63.162950</td>\n",
       "      <td>4.782770e+06</td>\n",
       "      <td>93553.453100</td>\n",
       "      <td>0.339800</td>\n",
       "      <td>1136.887575</td>\n",
       "      <td>1.589183e+07</td>\n",
       "    </tr>\n",
       "    <tr>\n",
       "      <th>max</th>\n",
       "      <td>1499.850100</td>\n",
       "      <td>2346.629200</td>\n",
       "      <td>667.920800</td>\n",
       "      <td>129.177300</td>\n",
       "      <td>5.983779e+06</td>\n",
       "      <td>629867.000000</td>\n",
       "      <td>0.709000</td>\n",
       "      <td>1499.850100</td>\n",
       "      <td>2.034821e+07</td>\n",
       "    </tr>\n",
       "  </tbody>\n",
       "</table>\n",
       "</div>"
      ],
      "text/plain": [
       "             DEPTH         RHOB           DT           GR            AI  \\\n",
       "count  9680.000000  8253.000000  9680.000000  9666.000000  9.680000e+03   \n",
       "mean    773.925016  1975.091074   495.026839    46.613531  4.078518e+06   \n",
       "std     419.177962   294.677828    50.861145    23.484662  8.776878e+05   \n",
       "min      48.000000  1350.444700   368.114700     1.339200  2.035267e+06   \n",
       "25%     410.962500  1812.400000   460.693600    23.527000  3.658766e+06   \n",
       "50%     773.925000  2096.345000   505.393400    48.765250  3.953107e+06   \n",
       "75%    1136.887575  2210.906000   521.642300    63.162950  4.782770e+06   \n",
       "max    1499.850100  2346.629200   667.920800   129.177300  5.983779e+06   \n",
       "\n",
       "              AI_REL         PHIE           MD            VP  \n",
       "count    9680.000000  4906.000000  9680.000000  9.680000e+03  \n",
       "mean     5193.728898     0.304522   773.925016  1.508099e+07  \n",
       "std    193455.679167     0.064282   419.177962  1.549485e+06  \n",
       "min   -617319.750000     0.203900    48.000000  1.121461e+07  \n",
       "25%    -95113.828100     0.257900   410.962500  1.403503e+07  \n",
       "50%      2603.301500     0.283000   773.925000  1.539681e+07  \n",
       "75%     93553.453100     0.339800  1136.887575  1.589183e+07  \n",
       "max    629867.000000     0.709000  1499.850100  2.034821e+07  "
      ]
     },
     "metadata": {},
     "output_type": "display_data"
    }
   ],
   "source": [
    "#1) Data Investigation\n",
    "\n",
    "display('Col, Rows',df.shape)\n",
    "display('info',df.info())\n",
    "display('Null values',df.isna().sum())\n",
    "display('Null values%',df.isna().sum()/ df.shape[0] *100)\n",
    "display('normal statistics',df.describe())"
   ]
  },
  {
   "cell_type": "code",
   "execution_count": 4,
   "id": "353b2c88",
   "metadata": {},
   "outputs": [
    {
     "data": {
      "text/plain": [
       "<AxesSubplot:title={'center':'Missing Values Comparison'}>"
      ]
     },
     "execution_count": 4,
     "metadata": {},
     "output_type": "execute_result"
    },
    {
     "data": {
      "image/png": "[encoded data removed]",
      "text/plain": [
       "<Figure size 1440x432 with 1 Axes>"
      ]
     },
     "metadata": {
      "needs_background": "light"
     },
     "output_type": "display_data"
    }
   ],
   "source": [
    "#2) Plot the null values as bars\n",
    "df.isnull().sum().plot(kind = 'bar', title = 'Missing Values Comparison', figsize=(20,6))"
   ]
  },
  {
   "cell_type": "code",
   "execution_count": 7,
   "id": "d298aedf",
   "metadata": {},
   "outputs": [
    {
     "name": "stdout",
     "output_type": "stream",
     "text": [
      "original df = (9680, 9)\n",
      "after removing nans = (4906, 9)\n",
      "====================================================================================================\n",
      "This dataset has 4906 rows and 9 columns\n"
     ]
    }
   ],
   "source": [
    "#3) Create a copy of the data frame and drop the NAN values\n",
    "df_dropna=df.copy()\n",
    "print('original df =',df_dropna.shape)\n",
    "df_dropna.dropna(inplace=True)\n",
    "print('after removing nans =',df_dropna.shape)\n",
    "print('=' *100)\n",
    "print('This dataset has {0} rows and {1} columns'.format(df_dropna.shape[0],df_dropna.shape[1]))"
   ]
  },
  {
   "cell_type": "code",
   "execution_count": 8,
   "id": "f7887c33",
   "metadata": {},
   "outputs": [
    {
     "data": {
      "text/plain": [
       "'after filling nans'"
      ]
     },
     "metadata": {},
     "output_type": "display_data"
    },
    {
     "data": {
      "text/html": [
       "<div>\n",
       "<style scoped>\n",
       "    .dataframe tbody tr th:only-of-type {\n",
       "        vertical-align: middle;\n",
       "    }\n",
       "\n",
       "    .dataframe tbody tr th {\n",
       "        vertical-align: top;\n",
       "    }\n",
       "\n",
       "    .dataframe thead th {\n",
       "        text-align: right;\n",
       "    }\n",
       "</style>\n",
       "<table border=\"1\" class=\"dataframe\">\n",
       "  <thead>\n",
       "    <tr style=\"text-align: right;\">\n",
       "      <th></th>\n",
       "      <th>DEPTH</th>\n",
       "      <th>RHOB</th>\n",
       "      <th>DT</th>\n",
       "      <th>GR</th>\n",
       "      <th>AI</th>\n",
       "      <th>AI_REL</th>\n",
       "      <th>PHIE</th>\n",
       "      <th>MD</th>\n",
       "      <th>VP</th>\n",
       "    </tr>\n",
       "  </thead>\n",
       "  <tbody>\n",
       "    <tr>\n",
       "      <th>0</th>\n",
       "      <td>48.0000</td>\n",
       "      <td>1998.9065</td>\n",
       "      <td>524.0485</td>\n",
       "      <td>3.0703</td>\n",
       "      <td>3820257.00</td>\n",
       "      <td>-455.6956</td>\n",
       "      <td>0.4702</td>\n",
       "      <td>48.0000</td>\n",
       "      <td>1.596514e+07</td>\n",
       "    </tr>\n",
       "    <tr>\n",
       "      <th>1</th>\n",
       "      <td>48.1500</td>\n",
       "      <td>1998.9065</td>\n",
       "      <td>524.0410</td>\n",
       "      <td>3.0703</td>\n",
       "      <td>3820311.75</td>\n",
       "      <td>-455.6956</td>\n",
       "      <td>0.4702</td>\n",
       "      <td>48.1500</td>\n",
       "      <td>1.596491e+07</td>\n",
       "    </tr>\n",
       "    <tr>\n",
       "      <th>2</th>\n",
       "      <td>48.3000</td>\n",
       "      <td>1998.9065</td>\n",
       "      <td>524.0336</td>\n",
       "      <td>3.0703</td>\n",
       "      <td>3820366.25</td>\n",
       "      <td>-455.6956</td>\n",
       "      <td>0.4702</td>\n",
       "      <td>48.3000</td>\n",
       "      <td>1.596468e+07</td>\n",
       "    </tr>\n",
       "    <tr>\n",
       "      <th>3</th>\n",
       "      <td>48.4500</td>\n",
       "      <td>1998.9065</td>\n",
       "      <td>524.0262</td>\n",
       "      <td>3.0703</td>\n",
       "      <td>3820419.75</td>\n",
       "      <td>-455.6956</td>\n",
       "      <td>0.4702</td>\n",
       "      <td>48.4500</td>\n",
       "      <td>1.596446e+07</td>\n",
       "    </tr>\n",
       "    <tr>\n",
       "      <th>4</th>\n",
       "      <td>48.6000</td>\n",
       "      <td>1998.9065</td>\n",
       "      <td>524.0190</td>\n",
       "      <td>3.0703</td>\n",
       "      <td>3820472.25</td>\n",
       "      <td>-455.6956</td>\n",
       "      <td>0.4702</td>\n",
       "      <td>48.6000</td>\n",
       "      <td>1.596424e+07</td>\n",
       "    </tr>\n",
       "    <tr>\n",
       "      <th>...</th>\n",
       "      <td>...</td>\n",
       "      <td>...</td>\n",
       "      <td>...</td>\n",
       "      <td>...</td>\n",
       "      <td>...</td>\n",
       "      <td>...</td>\n",
       "      <td>...</td>\n",
       "      <td>...</td>\n",
       "      <td>...</td>\n",
       "    </tr>\n",
       "    <tr>\n",
       "      <th>9675</th>\n",
       "      <td>1499.2500</td>\n",
       "      <td>1787.5444</td>\n",
       "      <td>532.1727</td>\n",
       "      <td>27.6273</td>\n",
       "      <td>3359011.00</td>\n",
       "      <td>-239115.9375</td>\n",
       "      <td>NaN</td>\n",
       "      <td>1499.2500</td>\n",
       "      <td>1.621264e+07</td>\n",
       "    </tr>\n",
       "    <tr>\n",
       "      <th>9676</th>\n",
       "      <td>1499.4000</td>\n",
       "      <td>1814.1691</td>\n",
       "      <td>534.8610</td>\n",
       "      <td>28.5281</td>\n",
       "      <td>3391772.00</td>\n",
       "      <td>-239115.9375</td>\n",
       "      <td>NaN</td>\n",
       "      <td>1499.4000</td>\n",
       "      <td>1.629454e+07</td>\n",
       "    </tr>\n",
       "    <tr>\n",
       "      <th>9677</th>\n",
       "      <td>1499.5500</td>\n",
       "      <td>1861.6497</td>\n",
       "      <td>537.1902</td>\n",
       "      <td>28.5813</td>\n",
       "      <td>3465524.00</td>\n",
       "      <td>-239115.9375</td>\n",
       "      <td>NaN</td>\n",
       "      <td>1499.5500</td>\n",
       "      <td>1.636550e+07</td>\n",
       "    </tr>\n",
       "    <tr>\n",
       "      <th>9678</th>\n",
       "      <td>1499.7001</td>\n",
       "      <td>1880.3978</td>\n",
       "      <td>537.2630</td>\n",
       "      <td>28.5813</td>\n",
       "      <td>3499957.75</td>\n",
       "      <td>-239115.9375</td>\n",
       "      <td>NaN</td>\n",
       "      <td>1499.7001</td>\n",
       "      <td>1.636772e+07</td>\n",
       "    </tr>\n",
       "    <tr>\n",
       "      <th>9679</th>\n",
       "      <td>1499.8501</td>\n",
       "      <td>1856.3350</td>\n",
       "      <td>537.3831</td>\n",
       "      <td>27.9759</td>\n",
       "      <td>3454404.00</td>\n",
       "      <td>-212640.7031</td>\n",
       "      <td>NaN</td>\n",
       "      <td>1499.8501</td>\n",
       "      <td>1.637138e+07</td>\n",
       "    </tr>\n",
       "  </tbody>\n",
       "</table>\n",
       "<p>9680 rows × 9 columns</p>\n",
       "</div>"
      ],
      "text/plain": [
       "          DEPTH       RHOB        DT       GR          AI       AI_REL  \\\n",
       "0       48.0000  1998.9065  524.0485   3.0703  3820257.00    -455.6956   \n",
       "1       48.1500  1998.9065  524.0410   3.0703  3820311.75    -455.6956   \n",
       "2       48.3000  1998.9065  524.0336   3.0703  3820366.25    -455.6956   \n",
       "3       48.4500  1998.9065  524.0262   3.0703  3820419.75    -455.6956   \n",
       "4       48.6000  1998.9065  524.0190   3.0703  3820472.25    -455.6956   \n",
       "...         ...        ...       ...      ...         ...          ...   \n",
       "9675  1499.2500  1787.5444  532.1727  27.6273  3359011.00 -239115.9375   \n",
       "9676  1499.4000  1814.1691  534.8610  28.5281  3391772.00 -239115.9375   \n",
       "9677  1499.5500  1861.6497  537.1902  28.5813  3465524.00 -239115.9375   \n",
       "9678  1499.7001  1880.3978  537.2630  28.5813  3499957.75 -239115.9375   \n",
       "9679  1499.8501  1856.3350  537.3831  27.9759  3454404.00 -212640.7031   \n",
       "\n",
       "        PHIE         MD            VP  \n",
       "0     0.4702    48.0000  1.596514e+07  \n",
       "1     0.4702    48.1500  1.596491e+07  \n",
       "2     0.4702    48.3000  1.596468e+07  \n",
       "3     0.4702    48.4500  1.596446e+07  \n",
       "4     0.4702    48.6000  1.596424e+07  \n",
       "...      ...        ...           ...  \n",
       "9675     NaN  1499.2500  1.621264e+07  \n",
       "9676     NaN  1499.4000  1.629454e+07  \n",
       "9677     NaN  1499.5500  1.636550e+07  \n",
       "9678     NaN  1499.7001  1.636772e+07  \n",
       "9679     NaN  1499.8501  1.637138e+07  \n",
       "\n",
       "[9680 rows x 9 columns]"
      ]
     },
     "metadata": {},
     "output_type": "display_data"
    }
   ],
   "source": [
    "#3) Use the other copy to fill-in NAN values (interpolation).\n",
    "df_fillna=df.copy()\n",
    "df_fillna=df_fillna.interpolate(method ='linear', limit_direction ='backward')\n",
    "display('after filling nans',df_fillna)"
   ]
  },
  {
   "cell_type": "code",
   "execution_count": 10,
   "id": "f2ab8490",
   "metadata": {},
   "outputs": [
    {
     "data": {
      "image/png": "[encoded data removed]",
      "text/plain": [
       "<Figure size 720x360 with 1 Axes>"
      ]
     },
     "metadata": {
      "needs_background": "light"
     },
     "output_type": "display_data"
    },
    {
     "data": {
      "image/png": "[encoded data removed]",
      "text/plain": [
       "<Figure size 720x360 with 1 Axes>"
      ]
     },
     "metadata": {
      "needs_background": "light"
     },
     "output_type": "display_data"
    }
   ],
   "source": [
    "#4) PHIE vs. DT comparison\n",
    "plt.figure(figsize=(10,5))\n",
    "plt.scatter(df_dropna.PHIE, df_dropna.DT)\n",
    "plt.title('PHIE vs DT plot after removing null values ')\n",
    "plt.xlabel('PHIE')\n",
    "plt.ylabel('DT')\n",
    "plt.grid()\n",
    "plt.show();\n",
    "\n",
    "plt.figure(figsize=(10,5))\n",
    "plt.scatter(df_fillna.PHIE, df.DT)\n",
    "plt.title('PHIE vs DT plot after filling null values using interpolation')\n",
    "plt.xlabel('PHIE')\n",
    "plt.ylabel('DT')\n",
    "plt.grid()\n",
    "plt.show();"
   ]
  },
  {
   "cell_type": "code",
   "execution_count": 11,
   "id": "1c55780d",
   "metadata": {},
   "outputs": [
    {
     "data": {
      "image/png": "[encoded data removed]",
      "text/plain": [
       "<Figure size 720x360 with 1 Axes>"
      ]
     },
     "metadata": {
      "needs_background": "light"
     },
     "output_type": "display_data"
    },
    {
     "data": {
      "image/png": "[encoded data removed]",
      "text/plain": [
       "<Figure size 720x360 with 1 Axes>"
      ]
     },
     "metadata": {
      "needs_background": "light"
     },
     "output_type": "display_data"
    }
   ],
   "source": [
    "#4) PHIE vs. RHOB comparison\n",
    "plt.figure(figsize=(10,5))\n",
    "plt.scatter(df_dropna.PHIE, df_dropna.RHOB)\n",
    "plt.title('PHIE vs RHOB plot after removing null values ')\n",
    "plt.xlabel('PHIE')\n",
    "plt.ylabel('RHOB')\n",
    "plt.grid()\n",
    "plt.show();\n",
    "\n",
    "plt.figure(figsize=(10,5))\n",
    "plt.scatter(df_fillna.PHIE, df.RHOB)\n",
    "plt.title('PHIE vs RHOB plot after filling null values using interpolation')\n",
    "plt.xlabel('PHIE')\n",
    "plt.ylabel('RHOB')\n",
    "plt.grid()\n",
    "plt.show();"
   ]
  },
  {
   "cell_type": "markdown",
   "id": "b099f589",
   "metadata": {},
   "source": [
    "#Removing null values gives less odd values in the logs interrelations than filling with  interpolation method"
   ]
  }
 ],
 "metadata": {
  "kernelspec": {
   "display_name": "Python 3",
   "language": "python",
   "name": "python3"
  },
  "language_info": {
   "codemirror_mode": {
    "name": "ipython",
    "version": 3
   },
   "file_extension": ".py",
   "mimetype": "text/x-python",
   "name": "python",
   "nbconvert_exporter": "python",
   "pygments_lexer": "ipython3",
   "version": "3.9.5"
  },
  "toc": {
   "base_numbering": 1,
   "nav_menu": {},
   "number_sections": false,
   "sideBar": true,
   "skip_h1_title": true,
   "title_cell": "Table of Contents",
   "title_sidebar": "Contents",
   "toc_cell": false,
   "toc_position": {},
   "toc_section_display": true,
   "toc_window_display": true
  },
  "varInspector": {
   "cols": {
    "lenName": 16,
    "lenType": 16,
    "lenVar": 40
   },
   "kernels_config": {
    "python": {
     "delete_cmd_postfix": "",
     "delete_cmd_prefix": "del ",
     "library": "var_list.py",
     "varRefreshCmd": "print(var_dic_list())"
    },
    "r": {
     "delete_cmd_postfix": ") ",
     "delete_cmd_prefix": "rm(",
     "library": "var_list.r",
     "varRefreshCmd": "cat(var_dic_list()) "
    }
   },
   "types_to_exclude": [
    "module",
    "function",
    "builtin_function_or_method",
    "instance",
    "_Feature"
   ],
   "window_display": false
  }
 },
 "nbformat": 4,
 "nbformat_minor": 5
}
