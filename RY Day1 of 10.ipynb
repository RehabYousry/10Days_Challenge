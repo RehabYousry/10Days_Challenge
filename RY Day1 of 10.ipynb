{
 "cells": [
  {
   "cell_type": "markdown",
   "id": "931dca7d",
   "metadata": {},
   "source": [
    "# Data Loading and Manipulation"
   ]
  },
  {
   "cell_type": "markdown",
   "id": "6fccf0ae",
   "metadata": {},
   "source": [
    "## Kindly load the las file of F02-1_logs.las well from the data folder\n",
    "## Answer the following questions:\n",
    "\n",
    ">1. How many well logs in the file \n",
    "2. How many data points (observations) in the welllogs.\n",
    "3. Is there any null values? how much (%)/ well-log\n",
    "4. Is there a relationship between DT and RHOB? "
   ]
  },
  {
   "cell_type": "markdown",
   "id": "9ae3e8e0",
   "metadata": {},
   "source": [
    "### You can use the following liberaries for your assignment:\n",
    "> Numpy, Pandas, Matplotlib, seaborn, LASIO"
   ]
  },
  {
   "cell_type": "code",
   "execution_count": 1,
   "id": "670ee031",
   "metadata": {},
   "outputs": [
    {
     "name": "stdout",
     "output_type": "stream",
     "text": [
      "Requirement already satisfied: lasio in c:\\users\\hp\\appdata\\local\\programs\\python\\python39\\lib\\site-packages (0.29)\n",
      "Requirement already satisfied: numpy in c:\\users\\hp\\appdata\\local\\programs\\python\\python39\\lib\\site-packages (from lasio) (1.21.0)\n"
     ]
    }
   ],
   "source": [
    "!pip install lasio"
   ]
  },
  {
   "cell_type": "code",
   "execution_count": 2,
   "id": "12944871",
   "metadata": {},
   "outputs": [],
   "source": [
    "import numpy as np\n",
    "import pandas as pd\n",
    "import matplotlib.pyplot as plt\n",
    "import seaborn as sb\n",
    "import lasio\n",
    "\n",
    "from IPython.display import display"
   ]
  },
  {
   "cell_type": "code",
   "execution_count": 3,
   "id": "75087fc3",
   "metadata": {},
   "outputs": [],
   "source": [
    "F02 = lasio.read(\"C:/Users/HP/Documents/GitHub/GeoML-2.0/10DaysChallenge/Dutch_F3_Logs/F02-1_logs.las\")"
   ]
  },
  {
   "cell_type": "code",
   "execution_count": 4,
   "id": "d07a971d",
   "metadata": {},
   "outputs": [
    {
     "data": {
      "text/plain": [
       "lasio.las.LASFile"
      ]
     },
     "execution_count": 4,
     "metadata": {},
     "output_type": "execute_result"
    }
   ],
   "source": [
    "type(F02)"
   ]
  },
  {
   "cell_type": "code",
   "execution_count": 5,
   "id": "0924af88",
   "metadata": {},
   "outputs": [
    {
     "data": {
      "text/plain": [
       "['DEPTH', 'RHOB', 'DT', 'GR', 'AI', 'AI_REL', 'PHIE']"
      ]
     },
     "execution_count": 5,
     "metadata": {},
     "output_type": "execute_result"
    }
   ],
   "source": [
    "F02.keys()"
   ]
  },
  {
   "cell_type": "code",
   "execution_count": 6,
   "id": "79b57ca6",
   "metadata": {},
   "outputs": [],
   "source": [
    "logs=F02.keys()"
   ]
  },
  {
   "cell_type": "code",
   "execution_count": 7,
   "id": "cfb8e5ae",
   "metadata": {},
   "outputs": [
    {
     "data": {
      "text/plain": [
       "7"
      ]
     },
     "execution_count": 7,
     "metadata": {},
     "output_type": "execute_result"
    }
   ],
   "source": [
    "#No. of well logs\n",
    "len(logs)"
   ]
  },
  {
   "cell_type": "code",
   "execution_count": 8,
   "id": "be11e577",
   "metadata": {},
   "outputs": [
    {
     "data": {
      "text/plain": [
       "array([[ 4.80000000e+01,             nan,  5.24048500e+02, ...,\n",
       "         3.82025700e+06, -4.55695600e+02,             nan],\n",
       "       [ 4.81500000e+01,             nan,  5.24041000e+02, ...,\n",
       "         3.82031175e+06, -4.55695600e+02,             nan],\n",
       "       [ 4.83000000e+01,             nan,  5.24033600e+02, ...,\n",
       "         3.82036625e+06, -4.55695600e+02,             nan],\n",
       "       ...,\n",
       "       [ 1.49955000e+03,  1.86164970e+03,  5.37190200e+02, ...,\n",
       "         3.46552400e+06, -2.39115938e+05,             nan],\n",
       "       [ 1.49970010e+03,  1.88039780e+03,  5.37263000e+02, ...,\n",
       "         3.49995775e+06, -2.39115938e+05,             nan],\n",
       "       [ 1.49985010e+03,  1.85633500e+03,  5.37383100e+02, ...,\n",
       "         3.45440400e+06, -2.12640703e+05,             nan]])"
      ]
     },
     "execution_count": 8,
     "metadata": {},
     "output_type": "execute_result"
    }
   ],
   "source": [
    "F02.data"
   ]
  },
  {
   "cell_type": "code",
   "execution_count": 9,
   "id": "98217670",
   "metadata": {},
   "outputs": [
    {
     "data": {
      "text/html": [
       "<div>\n",
       "<style scoped>\n",
       "    .dataframe tbody tr th:only-of-type {\n",
       "        vertical-align: middle;\n",
       "    }\n",
       "\n",
       "    .dataframe tbody tr th {\n",
       "        vertical-align: top;\n",
       "    }\n",
       "\n",
       "    .dataframe thead th {\n",
       "        text-align: right;\n",
       "    }\n",
       "</style>\n",
       "<table border=\"1\" class=\"dataframe\">\n",
       "  <thead>\n",
       "    <tr style=\"text-align: right;\">\n",
       "      <th></th>\n",
       "      <th>RHOB</th>\n",
       "      <th>DT</th>\n",
       "      <th>GR</th>\n",
       "      <th>AI</th>\n",
       "      <th>AI_REL</th>\n",
       "      <th>PHIE</th>\n",
       "    </tr>\n",
       "    <tr>\n",
       "      <th>DEPTH</th>\n",
       "      <th></th>\n",
       "      <th></th>\n",
       "      <th></th>\n",
       "      <th></th>\n",
       "      <th></th>\n",
       "      <th></th>\n",
       "    </tr>\n",
       "  </thead>\n",
       "  <tbody>\n",
       "    <tr>\n",
       "      <th>48.00</th>\n",
       "      <td>NaN</td>\n",
       "      <td>524.0485</td>\n",
       "      <td>NaN</td>\n",
       "      <td>3820257.00</td>\n",
       "      <td>-455.6956</td>\n",
       "      <td>NaN</td>\n",
       "    </tr>\n",
       "    <tr>\n",
       "      <th>48.15</th>\n",
       "      <td>NaN</td>\n",
       "      <td>524.0410</td>\n",
       "      <td>NaN</td>\n",
       "      <td>3820311.75</td>\n",
       "      <td>-455.6956</td>\n",
       "      <td>NaN</td>\n",
       "    </tr>\n",
       "    <tr>\n",
       "      <th>48.30</th>\n",
       "      <td>NaN</td>\n",
       "      <td>524.0336</td>\n",
       "      <td>NaN</td>\n",
       "      <td>3820366.25</td>\n",
       "      <td>-455.6956</td>\n",
       "      <td>NaN</td>\n",
       "    </tr>\n",
       "    <tr>\n",
       "      <th>48.45</th>\n",
       "      <td>NaN</td>\n",
       "      <td>524.0262</td>\n",
       "      <td>NaN</td>\n",
       "      <td>3820419.75</td>\n",
       "      <td>-455.6956</td>\n",
       "      <td>NaN</td>\n",
       "    </tr>\n",
       "    <tr>\n",
       "      <th>48.60</th>\n",
       "      <td>NaN</td>\n",
       "      <td>524.0190</td>\n",
       "      <td>NaN</td>\n",
       "      <td>3820472.25</td>\n",
       "      <td>-455.6956</td>\n",
       "      <td>NaN</td>\n",
       "    </tr>\n",
       "    <tr>\n",
       "      <th>48.75</th>\n",
       "      <td>NaN</td>\n",
       "      <td>524.0117</td>\n",
       "      <td>NaN</td>\n",
       "      <td>3820525.75</td>\n",
       "      <td>-455.6956</td>\n",
       "      <td>NaN</td>\n",
       "    </tr>\n",
       "    <tr>\n",
       "      <th>48.90</th>\n",
       "      <td>NaN</td>\n",
       "      <td>524.0042</td>\n",
       "      <td>NaN</td>\n",
       "      <td>3820580.00</td>\n",
       "      <td>-455.6956</td>\n",
       "      <td>NaN</td>\n",
       "    </tr>\n",
       "  </tbody>\n",
       "</table>\n",
       "</div>"
      ],
      "text/plain": [
       "       RHOB        DT  GR          AI    AI_REL  PHIE\n",
       "DEPTH                                                \n",
       "48.00   NaN  524.0485 NaN  3820257.00 -455.6956   NaN\n",
       "48.15   NaN  524.0410 NaN  3820311.75 -455.6956   NaN\n",
       "48.30   NaN  524.0336 NaN  3820366.25 -455.6956   NaN\n",
       "48.45   NaN  524.0262 NaN  3820419.75 -455.6956   NaN\n",
       "48.60   NaN  524.0190 NaN  3820472.25 -455.6956   NaN\n",
       "48.75   NaN  524.0117 NaN  3820525.75 -455.6956   NaN\n",
       "48.90   NaN  524.0042 NaN  3820580.00 -455.6956   NaN"
      ]
     },
     "execution_count": 9,
     "metadata": {},
     "output_type": "execute_result"
    }
   ],
   "source": [
    "df = F02.df()\n",
    "df.head(7)"
   ]
  },
  {
   "cell_type": "code",
   "execution_count": 10,
   "id": "5ab8b9a1",
   "metadata": {},
   "outputs": [
    {
     "data": {
      "text/plain": [
       "RHOB      8253\n",
       "DT        9680\n",
       "GR        9666\n",
       "AI        9680\n",
       "AI_REL    9680\n",
       "PHIE      4906\n",
       "dtype: int64"
      ]
     },
     "execution_count": 10,
     "metadata": {},
     "output_type": "execute_result"
    }
   ],
   "source": [
    "df.count()"
   ]
  },
  {
   "cell_type": "code",
   "execution_count": 11,
   "id": "d8f6052f",
   "metadata": {},
   "outputs": [
    {
     "data": {
      "text/plain": [
       "RHOB      1427\n",
       "DT           0\n",
       "GR          14\n",
       "AI           0\n",
       "AI_REL       0\n",
       "PHIE      4774\n",
       "dtype: int64"
      ]
     },
     "execution_count": 11,
     "metadata": {},
     "output_type": "execute_result"
    }
   ],
   "source": [
    "#check the null values in the dataframe\n",
    "df.isnull().sum()"
   ]
  },
  {
   "cell_type": "code",
   "execution_count": 29,
   "id": "20712e1b",
   "metadata": {},
   "outputs": [],
   "source": [
    "Per=df.isnull().sum()/df.count()*100"
   ]
  },
  {
   "cell_type": "code",
   "execution_count": 30,
   "id": "7b3dea54",
   "metadata": {},
   "outputs": [
    {
     "name": "stdout",
     "output_type": "stream",
     "text": [
      "RHOB      17.290682\n",
      "DT         0.000000\n",
      "GR         0.144838\n",
      "AI         0.000000\n",
      "AI_REL     0.000000\n",
      "PHIE      97.309417\n",
      "dtype: float64 %\n"
     ]
    }
   ],
   "source": [
    "print(Per, \"%\")"
   ]
  },
  {
   "cell_type": "code",
   "execution_count": 37,
   "id": "753404df",
   "metadata": {},
   "outputs": [
    {
     "data": {
      "text/plain": [
       "<matplotlib.legend.Legend at 0x19a460edeb0>"
      ]
     },
     "execution_count": 37,
     "metadata": {},
     "output_type": "execute_result"
    },
    {
     "data": {
      "image/png": "[encoded data removed]",
      "text/plain": [
       "<Figure size 864x720 with 1 Axes>"
      ]
     },
     "metadata": {
      "needs_background": "light"
     },
     "output_type": "display_data"
    }
   ],
   "source": [
    "plt.figure(figsize=(12,10))\n",
    "plt.scatter(df.DT, df.RHOB, label= \"DT vs. RHOB\")\n",
    "\n",
    "plt.xlabel(\"DT\")\n",
    "plt.ylabel(\"RHOB\")\n",
    "plt.title(\" DT vs RHOB\")\n",
    "\n",
    "plt.legend()"
   ]
  }
 ],
 "metadata": {
  "kernelspec": {
   "display_name": "Python 3",
   "language": "python",
   "name": "python3"
  },
  "language_info": {
   "codemirror_mode": {
    "name": "ipython",
    "version": 3
   },
   "file_extension": ".py",
   "mimetype": "text/x-python",
   "name": "python",
   "nbconvert_exporter": "python",
   "pygments_lexer": "ipython3",
   "version": "3.9.5"
  }
 },
 "nbformat": 4,
 "nbformat_minor": 5
}
