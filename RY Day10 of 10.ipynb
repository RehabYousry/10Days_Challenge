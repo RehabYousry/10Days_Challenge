{
 "cells": [
  {
   "cell_type": "markdown",
   "id": "ede52985",
   "metadata": {},
   "source": [
    "# Day 10 : Data Loading and Manipulation and Visulatiozation (Facies)"
   ]
  },
  {
   "cell_type": "markdown",
   "id": "6b6fea03",
   "metadata": {},
   "source": [
    "### You can use the following liberaries for your assignment:\n",
    "> Numpy, Pandas, Matplotlib, Seaborn, LASIO, Welly"
   ]
  },
  {
   "cell_type": "markdown",
   "id": "79895c51",
   "metadata": {},
   "source": [
    "## Kindly load the las file of well1513.csv file from the data folder\n",
    "## Perform the below Tasks:\n",
    "\n",
    ">1. Investigate the component of the data file (number of columns , numbers of observations, Null values, normal statistics) \n",
    "2. Create subset including (DT, NPHI, GR,SP) logs\n",
    "3. Create a function to Normalize the well logs using formula (X-Xmin / Xmax-Xmin).\n",
    "4. Create a function to Standarize the well logs using formula (X-mean / standard deviation).\n",
    "5. Plot histogram of the normalized and standarized well logs.\n",
    "\n"
   ]
  },
  {
   "cell_type": "code",
   "execution_count": 1,
   "id": "e2e1724a",
   "metadata": {},
   "outputs": [],
   "source": [
    "import numpy as np\n",
    "import pandas as pd\n",
    "import matplotlib.pyplot as plt\n",
    "import seaborn as sb\n",
    "import lasio\n",
    "import welly\n",
    "\n",
    "from IPython.display import display"
   ]
  },
  {
   "cell_type": "code",
   "execution_count": 2,
   "id": "403e8689",
   "metadata": {},
   "outputs": [
    {
     "data": {
      "text/html": [
       "<div>\n",
       "<style scoped>\n",
       "    .dataframe tbody tr th:only-of-type {\n",
       "        vertical-align: middle;\n",
       "    }\n",
       "\n",
       "    .dataframe tbody tr th {\n",
       "        vertical-align: top;\n",
       "    }\n",
       "\n",
       "    .dataframe thead th {\n",
       "        text-align: right;\n",
       "    }\n",
       "</style>\n",
       "<table border=\"1\" class=\"dataframe\">\n",
       "  <thead>\n",
       "    <tr style=\"text-align: right;\">\n",
       "      <th></th>\n",
       "      <th>Unnamed: 0</th>\n",
       "      <th>WELL</th>\n",
       "      <th>DEPTH_MD</th>\n",
       "      <th>X_LOC</th>\n",
       "      <th>Y_LOC</th>\n",
       "      <th>Z_LOC</th>\n",
       "      <th>GROUP</th>\n",
       "      <th>FORMATION</th>\n",
       "      <th>CALI</th>\n",
       "      <th>RSHA</th>\n",
       "      <th>...</th>\n",
       "      <th>ROP</th>\n",
       "      <th>DTS</th>\n",
       "      <th>DCAL</th>\n",
       "      <th>DRHO</th>\n",
       "      <th>MUDWEIGHT</th>\n",
       "      <th>RMIC</th>\n",
       "      <th>ROPA</th>\n",
       "      <th>RXO</th>\n",
       "      <th>FORCE_2020_LITHOFACIES_LITHOLOGY</th>\n",
       "      <th>FORCE_2020_LITHOFACIES_CONFIDENCE</th>\n",
       "    </tr>\n",
       "  </thead>\n",
       "  <tbody>\n",
       "    <tr>\n",
       "      <th>0</th>\n",
       "      <td>0</td>\n",
       "      <td>15/9-13</td>\n",
       "      <td>494.528</td>\n",
       "      <td>437641.96875</td>\n",
       "      <td>6470972.5</td>\n",
       "      <td>-469.501831</td>\n",
       "      <td>NORDLAND GP.</td>\n",
       "      <td>NaN</td>\n",
       "      <td>19.480835</td>\n",
       "      <td>NaN</td>\n",
       "      <td>...</td>\n",
       "      <td>34.636410</td>\n",
       "      <td>NaN</td>\n",
       "      <td>NaN</td>\n",
       "      <td>-0.574928</td>\n",
       "      <td>NaN</td>\n",
       "      <td>NaN</td>\n",
       "      <td>NaN</td>\n",
       "      <td>NaN</td>\n",
       "      <td>65000</td>\n",
       "      <td>1.0</td>\n",
       "    </tr>\n",
       "    <tr>\n",
       "      <th>1</th>\n",
       "      <td>1</td>\n",
       "      <td>15/9-13</td>\n",
       "      <td>494.680</td>\n",
       "      <td>437641.96875</td>\n",
       "      <td>6470972.5</td>\n",
       "      <td>-469.653809</td>\n",
       "      <td>NORDLAND GP.</td>\n",
       "      <td>NaN</td>\n",
       "      <td>19.468800</td>\n",
       "      <td>NaN</td>\n",
       "      <td>...</td>\n",
       "      <td>34.636410</td>\n",
       "      <td>NaN</td>\n",
       "      <td>NaN</td>\n",
       "      <td>-0.570188</td>\n",
       "      <td>NaN</td>\n",
       "      <td>NaN</td>\n",
       "      <td>NaN</td>\n",
       "      <td>NaN</td>\n",
       "      <td>65000</td>\n",
       "      <td>1.0</td>\n",
       "    </tr>\n",
       "    <tr>\n",
       "      <th>2</th>\n",
       "      <td>2</td>\n",
       "      <td>15/9-13</td>\n",
       "      <td>494.832</td>\n",
       "      <td>437641.96875</td>\n",
       "      <td>6470972.5</td>\n",
       "      <td>-469.805786</td>\n",
       "      <td>NORDLAND GP.</td>\n",
       "      <td>NaN</td>\n",
       "      <td>19.468800</td>\n",
       "      <td>NaN</td>\n",
       "      <td>...</td>\n",
       "      <td>34.779556</td>\n",
       "      <td>NaN</td>\n",
       "      <td>NaN</td>\n",
       "      <td>-0.574245</td>\n",
       "      <td>NaN</td>\n",
       "      <td>NaN</td>\n",
       "      <td>NaN</td>\n",
       "      <td>NaN</td>\n",
       "      <td>65000</td>\n",
       "      <td>1.0</td>\n",
       "    </tr>\n",
       "    <tr>\n",
       "      <th>3</th>\n",
       "      <td>3</td>\n",
       "      <td>15/9-13</td>\n",
       "      <td>494.984</td>\n",
       "      <td>437641.96875</td>\n",
       "      <td>6470972.5</td>\n",
       "      <td>-469.957794</td>\n",
       "      <td>NORDLAND GP.</td>\n",
       "      <td>NaN</td>\n",
       "      <td>19.459282</td>\n",
       "      <td>NaN</td>\n",
       "      <td>...</td>\n",
       "      <td>39.965164</td>\n",
       "      <td>NaN</td>\n",
       "      <td>NaN</td>\n",
       "      <td>-0.586315</td>\n",
       "      <td>NaN</td>\n",
       "      <td>NaN</td>\n",
       "      <td>NaN</td>\n",
       "      <td>NaN</td>\n",
       "      <td>65000</td>\n",
       "      <td>1.0</td>\n",
       "    </tr>\n",
       "    <tr>\n",
       "      <th>4</th>\n",
       "      <td>4</td>\n",
       "      <td>15/9-13</td>\n",
       "      <td>495.136</td>\n",
       "      <td>437641.96875</td>\n",
       "      <td>6470972.5</td>\n",
       "      <td>-470.109772</td>\n",
       "      <td>NORDLAND GP.</td>\n",
       "      <td>NaN</td>\n",
       "      <td>19.453100</td>\n",
       "      <td>NaN</td>\n",
       "      <td>...</td>\n",
       "      <td>57.483765</td>\n",
       "      <td>NaN</td>\n",
       "      <td>NaN</td>\n",
       "      <td>-0.597914</td>\n",
       "      <td>NaN</td>\n",
       "      <td>NaN</td>\n",
       "      <td>NaN</td>\n",
       "      <td>NaN</td>\n",
       "      <td>65000</td>\n",
       "      <td>1.0</td>\n",
       "    </tr>\n",
       "    <tr>\n",
       "      <th>...</th>\n",
       "      <td>...</td>\n",
       "      <td>...</td>\n",
       "      <td>...</td>\n",
       "      <td>...</td>\n",
       "      <td>...</td>\n",
       "      <td>...</td>\n",
       "      <td>...</td>\n",
       "      <td>...</td>\n",
       "      <td>...</td>\n",
       "      <td>...</td>\n",
       "      <td>...</td>\n",
       "      <td>...</td>\n",
       "      <td>...</td>\n",
       "      <td>...</td>\n",
       "      <td>...</td>\n",
       "      <td>...</td>\n",
       "      <td>...</td>\n",
       "      <td>...</td>\n",
       "      <td>...</td>\n",
       "      <td>...</td>\n",
       "      <td>...</td>\n",
       "    </tr>\n",
       "    <tr>\n",
       "      <th>18265</th>\n",
       "      <td>18265</td>\n",
       "      <td>15/9-13</td>\n",
       "      <td>3271.416</td>\n",
       "      <td>437593.40625</td>\n",
       "      <td>6470983.0</td>\n",
       "      <td>-3245.549316</td>\n",
       "      <td>ZECHSTEIN GP.</td>\n",
       "      <td>Smith Bank Fm.</td>\n",
       "      <td>8.541623</td>\n",
       "      <td>NaN</td>\n",
       "      <td>...</td>\n",
       "      <td>1.524012</td>\n",
       "      <td>NaN</td>\n",
       "      <td>NaN</td>\n",
       "      <td>-0.005047</td>\n",
       "      <td>0.155774</td>\n",
       "      <td>NaN</td>\n",
       "      <td>NaN</td>\n",
       "      <td>NaN</td>\n",
       "      <td>74000</td>\n",
       "      <td>3.0</td>\n",
       "    </tr>\n",
       "    <tr>\n",
       "      <th>18266</th>\n",
       "      <td>18266</td>\n",
       "      <td>15/9-13</td>\n",
       "      <td>3271.568</td>\n",
       "      <td>437593.37500</td>\n",
       "      <td>6470983.0</td>\n",
       "      <td>-3245.700928</td>\n",
       "      <td>ZECHSTEIN GP.</td>\n",
       "      <td>Smith Bank Fm.</td>\n",
       "      <td>8.557213</td>\n",
       "      <td>NaN</td>\n",
       "      <td>...</td>\n",
       "      <td>2.056166</td>\n",
       "      <td>NaN</td>\n",
       "      <td>NaN</td>\n",
       "      <td>0.002087</td>\n",
       "      <td>0.155774</td>\n",
       "      <td>NaN</td>\n",
       "      <td>NaN</td>\n",
       "      <td>NaN</td>\n",
       "      <td>74000</td>\n",
       "      <td>3.0</td>\n",
       "    </tr>\n",
       "    <tr>\n",
       "      <th>18267</th>\n",
       "      <td>18267</td>\n",
       "      <td>15/9-13</td>\n",
       "      <td>3271.720</td>\n",
       "      <td>437593.37500</td>\n",
       "      <td>6470983.0</td>\n",
       "      <td>-3245.852539</td>\n",
       "      <td>ZECHSTEIN GP.</td>\n",
       "      <td>Smith Bank Fm.</td>\n",
       "      <td>8.577917</td>\n",
       "      <td>NaN</td>\n",
       "      <td>...</td>\n",
       "      <td>2.909438</td>\n",
       "      <td>NaN</td>\n",
       "      <td>NaN</td>\n",
       "      <td>0.007469</td>\n",
       "      <td>0.155774</td>\n",
       "      <td>NaN</td>\n",
       "      <td>NaN</td>\n",
       "      <td>NaN</td>\n",
       "      <td>74000</td>\n",
       "      <td>3.0</td>\n",
       "    </tr>\n",
       "    <tr>\n",
       "      <th>18268</th>\n",
       "      <td>18268</td>\n",
       "      <td>15/9-13</td>\n",
       "      <td>3271.872</td>\n",
       "      <td>437593.37500</td>\n",
       "      <td>6470983.0</td>\n",
       "      <td>-3246.004395</td>\n",
       "      <td>ZECHSTEIN GP.</td>\n",
       "      <td>Smith Bank Fm.</td>\n",
       "      <td>8.478219</td>\n",
       "      <td>NaN</td>\n",
       "      <td>...</td>\n",
       "      <td>2.909438</td>\n",
       "      <td>NaN</td>\n",
       "      <td>NaN</td>\n",
       "      <td>0.010048</td>\n",
       "      <td>0.155774</td>\n",
       "      <td>NaN</td>\n",
       "      <td>NaN</td>\n",
       "      <td>NaN</td>\n",
       "      <td>74000</td>\n",
       "      <td>3.0</td>\n",
       "    </tr>\n",
       "    <tr>\n",
       "      <th>18269</th>\n",
       "      <td>18269</td>\n",
       "      <td>15/9-13</td>\n",
       "      <td>3272.024</td>\n",
       "      <td>437593.34375</td>\n",
       "      <td>6470983.0</td>\n",
       "      <td>-3246.156250</td>\n",
       "      <td>ZECHSTEIN GP.</td>\n",
       "      <td>Smith Bank Fm.</td>\n",
       "      <td>8.426995</td>\n",
       "      <td>NaN</td>\n",
       "      <td>...</td>\n",
       "      <td>2.909438</td>\n",
       "      <td>NaN</td>\n",
       "      <td>NaN</td>\n",
       "      <td>0.012007</td>\n",
       "      <td>0.155774</td>\n",
       "      <td>NaN</td>\n",
       "      <td>NaN</td>\n",
       "      <td>NaN</td>\n",
       "      <td>74000</td>\n",
       "      <td>3.0</td>\n",
       "    </tr>\n",
       "  </tbody>\n",
       "</table>\n",
       "<p>18270 rows × 30 columns</p>\n",
       "</div>"
      ],
      "text/plain": [
       "       Unnamed: 0     WELL  DEPTH_MD         X_LOC      Y_LOC        Z_LOC  \\\n",
       "0               0  15/9-13   494.528  437641.96875  6470972.5  -469.501831   \n",
       "1               1  15/9-13   494.680  437641.96875  6470972.5  -469.653809   \n",
       "2               2  15/9-13   494.832  437641.96875  6470972.5  -469.805786   \n",
       "3               3  15/9-13   494.984  437641.96875  6470972.5  -469.957794   \n",
       "4               4  15/9-13   495.136  437641.96875  6470972.5  -470.109772   \n",
       "...           ...      ...       ...           ...        ...          ...   \n",
       "18265       18265  15/9-13  3271.416  437593.40625  6470983.0 -3245.549316   \n",
       "18266       18266  15/9-13  3271.568  437593.37500  6470983.0 -3245.700928   \n",
       "18267       18267  15/9-13  3271.720  437593.37500  6470983.0 -3245.852539   \n",
       "18268       18268  15/9-13  3271.872  437593.37500  6470983.0 -3246.004395   \n",
       "18269       18269  15/9-13  3272.024  437593.34375  6470983.0 -3246.156250   \n",
       "\n",
       "               GROUP       FORMATION       CALI  RSHA  ...        ROP  DTS  \\\n",
       "0       NORDLAND GP.             NaN  19.480835   NaN  ...  34.636410  NaN   \n",
       "1       NORDLAND GP.             NaN  19.468800   NaN  ...  34.636410  NaN   \n",
       "2       NORDLAND GP.             NaN  19.468800   NaN  ...  34.779556  NaN   \n",
       "3       NORDLAND GP.             NaN  19.459282   NaN  ...  39.965164  NaN   \n",
       "4       NORDLAND GP.             NaN  19.453100   NaN  ...  57.483765  NaN   \n",
       "...              ...             ...        ...   ...  ...        ...  ...   \n",
       "18265  ZECHSTEIN GP.  Smith Bank Fm.   8.541623   NaN  ...   1.524012  NaN   \n",
       "18266  ZECHSTEIN GP.  Smith Bank Fm.   8.557213   NaN  ...   2.056166  NaN   \n",
       "18267  ZECHSTEIN GP.  Smith Bank Fm.   8.577917   NaN  ...   2.909438  NaN   \n",
       "18268  ZECHSTEIN GP.  Smith Bank Fm.   8.478219   NaN  ...   2.909438  NaN   \n",
       "18269  ZECHSTEIN GP.  Smith Bank Fm.   8.426995   NaN  ...   2.909438  NaN   \n",
       "\n",
       "       DCAL      DRHO  MUDWEIGHT  RMIC  ROPA  RXO  \\\n",
       "0       NaN -0.574928        NaN   NaN   NaN  NaN   \n",
       "1       NaN -0.570188        NaN   NaN   NaN  NaN   \n",
       "2       NaN -0.574245        NaN   NaN   NaN  NaN   \n",
       "3       NaN -0.586315        NaN   NaN   NaN  NaN   \n",
       "4       NaN -0.597914        NaN   NaN   NaN  NaN   \n",
       "...     ...       ...        ...   ...   ...  ...   \n",
       "18265   NaN -0.005047   0.155774   NaN   NaN  NaN   \n",
       "18266   NaN  0.002087   0.155774   NaN   NaN  NaN   \n",
       "18267   NaN  0.007469   0.155774   NaN   NaN  NaN   \n",
       "18268   NaN  0.010048   0.155774   NaN   NaN  NaN   \n",
       "18269   NaN  0.012007   0.155774   NaN   NaN  NaN   \n",
       "\n",
       "       FORCE_2020_LITHOFACIES_LITHOLOGY  FORCE_2020_LITHOFACIES_CONFIDENCE  \n",
       "0                                 65000                                1.0  \n",
       "1                                 65000                                1.0  \n",
       "2                                 65000                                1.0  \n",
       "3                                 65000                                1.0  \n",
       "4                                 65000                                1.0  \n",
       "...                                 ...                                ...  \n",
       "18265                             74000                                3.0  \n",
       "18266                             74000                                3.0  \n",
       "18267                             74000                                3.0  \n",
       "18268                             74000                                3.0  \n",
       "18269                             74000                                3.0  \n",
       "\n",
       "[18270 rows x 30 columns]"
      ]
     },
     "metadata": {},
     "output_type": "display_data"
    }
   ],
   "source": [
    "df = pd.read_csv(\"C:/Users/HP/Documents/GitHub/GeoML-2.0/10DaysChallenge/well1513.csv\", delimiter=',')\n",
    "display(df)"
   ]
  },
  {
   "cell_type": "code",
   "execution_count": 3,
   "id": "b734b35d",
   "metadata": {},
   "outputs": [
    {
     "data": {
      "text/plain": [
       "'Col, Rows'"
      ]
     },
     "metadata": {},
     "output_type": "display_data"
    },
    {
     "data": {
      "text/plain": [
       "(18270, 30)"
      ]
     },
     "metadata": {},
     "output_type": "display_data"
    },
    {
     "name": "stdout",
     "output_type": "stream",
     "text": [
      "<class 'pandas.core.frame.DataFrame'>\n",
      "RangeIndex: 18270 entries, 0 to 18269\n",
      "Data columns (total 30 columns):\n",
      " #   Column                             Non-Null Count  Dtype  \n",
      "---  ------                             --------------  -----  \n",
      " 0   Unnamed: 0                         18270 non-null  int64  \n",
      " 1   WELL                               18270 non-null  object \n",
      " 2   DEPTH_MD                           18270 non-null  float64\n",
      " 3   X_LOC                              18270 non-null  float64\n",
      " 4   Y_LOC                              18270 non-null  float64\n",
      " 5   Z_LOC                              18270 non-null  float64\n",
      " 6   GROUP                              18270 non-null  object \n",
      " 7   FORMATION                          15806 non-null  object \n",
      " 8   CALI                               18270 non-null  float64\n",
      " 9   RSHA                               1623 non-null   float64\n",
      " 10  RMED                               18270 non-null  float64\n",
      " 11  RDEP                               18270 non-null  float64\n",
      " 12  RHOB                               18270 non-null  float64\n",
      " 13  GR                                 18270 non-null  float64\n",
      " 14  SGR                                0 non-null      float64\n",
      " 15  NPHI                               14032 non-null  float64\n",
      " 16  PEF                                16440 non-null  float64\n",
      " 17  DTC                                18189 non-null  float64\n",
      " 18  SP                                 18270 non-null  float64\n",
      " 19  BS                                 0 non-null      float64\n",
      " 20  ROP                                18161 non-null  float64\n",
      " 21  DTS                                0 non-null      float64\n",
      " 22  DCAL                               0 non-null      float64\n",
      " 23  DRHO                               18270 non-null  float64\n",
      " 24  MUDWEIGHT                          17464 non-null  float64\n",
      " 25  RMIC                               0 non-null      float64\n",
      " 26  ROPA                               0 non-null      float64\n",
      " 27  RXO                                1627 non-null   float64\n",
      " 28  FORCE_2020_LITHOFACIES_LITHOLOGY   18270 non-null  int64  \n",
      " 29  FORCE_2020_LITHOFACIES_CONFIDENCE  18270 non-null  float64\n",
      "dtypes: float64(25), int64(2), object(3)\n",
      "memory usage: 4.2+ MB\n"
     ]
    },
    {
     "data": {
      "text/plain": [
       "'info'"
      ]
     },
     "metadata": {},
     "output_type": "display_data"
    },
    {
     "data": {
      "text/plain": [
       "None"
      ]
     },
     "metadata": {},
     "output_type": "display_data"
    },
    {
     "data": {
      "text/plain": [
       "'Null values'"
      ]
     },
     "metadata": {},
     "output_type": "display_data"
    },
    {
     "data": {
      "text/plain": [
       "Unnamed: 0                               0\n",
       "WELL                                     0\n",
       "DEPTH_MD                                 0\n",
       "X_LOC                                    0\n",
       "Y_LOC                                    0\n",
       "Z_LOC                                    0\n",
       "GROUP                                    0\n",
       "FORMATION                             2464\n",
       "CALI                                     0\n",
       "RSHA                                 16647\n",
       "RMED                                     0\n",
       "RDEP                                     0\n",
       "RHOB                                     0\n",
       "GR                                       0\n",
       "SGR                                  18270\n",
       "NPHI                                  4238\n",
       "PEF                                   1830\n",
       "DTC                                     81\n",
       "SP                                       0\n",
       "BS                                   18270\n",
       "ROP                                    109\n",
       "DTS                                  18270\n",
       "DCAL                                 18270\n",
       "DRHO                                     0\n",
       "MUDWEIGHT                              806\n",
       "RMIC                                 18270\n",
       "ROPA                                 18270\n",
       "RXO                                  16643\n",
       "FORCE_2020_LITHOFACIES_LITHOLOGY         0\n",
       "FORCE_2020_LITHOFACIES_CONFIDENCE        0\n",
       "dtype: int64"
      ]
     },
     "metadata": {},
     "output_type": "display_data"
    },
    {
     "data": {
      "text/plain": [
       "'Null values%'"
      ]
     },
     "metadata": {},
     "output_type": "display_data"
    },
    {
     "data": {
      "text/plain": [
       "Unnamed: 0                             0.000000\n",
       "WELL                                   0.000000\n",
       "DEPTH_MD                               0.000000\n",
       "X_LOC                                  0.000000\n",
       "Y_LOC                                  0.000000\n",
       "Z_LOC                                  0.000000\n",
       "GROUP                                  0.000000\n",
       "FORMATION                             13.486590\n",
       "CALI                                   0.000000\n",
       "RSHA                                  91.116585\n",
       "RMED                                   0.000000\n",
       "RDEP                                   0.000000\n",
       "RHOB                                   0.000000\n",
       "GR                                     0.000000\n",
       "SGR                                  100.000000\n",
       "NPHI                                  23.196497\n",
       "PEF                                   10.016420\n",
       "DTC                                    0.443350\n",
       "SP                                     0.000000\n",
       "BS                                   100.000000\n",
       "ROP                                    0.596606\n",
       "DTS                                  100.000000\n",
       "DCAL                                 100.000000\n",
       "DRHO                                   0.000000\n",
       "MUDWEIGHT                              4.411604\n",
       "RMIC                                 100.000000\n",
       "ROPA                                 100.000000\n",
       "RXO                                   91.094691\n",
       "FORCE_2020_LITHOFACIES_LITHOLOGY       0.000000\n",
       "FORCE_2020_LITHOFACIES_CONFIDENCE      0.000000\n",
       "dtype: float64"
      ]
     },
     "metadata": {},
     "output_type": "display_data"
    },
    {
     "data": {
      "text/plain": [
       "'normal statistics'"
      ]
     },
     "metadata": {},
     "output_type": "display_data"
    },
    {
     "data": {
      "text/html": [
       "<div>\n",
       "<style scoped>\n",
       "    .dataframe tbody tr th:only-of-type {\n",
       "        vertical-align: middle;\n",
       "    }\n",
       "\n",
       "    .dataframe tbody tr th {\n",
       "        vertical-align: top;\n",
       "    }\n",
       "\n",
       "    .dataframe thead th {\n",
       "        text-align: right;\n",
       "    }\n",
       "</style>\n",
       "<table border=\"1\" class=\"dataframe\">\n",
       "  <thead>\n",
       "    <tr style=\"text-align: right;\">\n",
       "      <th></th>\n",
       "      <th>Unnamed: 0</th>\n",
       "      <th>DEPTH_MD</th>\n",
       "      <th>X_LOC</th>\n",
       "      <th>Y_LOC</th>\n",
       "      <th>Z_LOC</th>\n",
       "      <th>CALI</th>\n",
       "      <th>RSHA</th>\n",
       "      <th>RMED</th>\n",
       "      <th>RDEP</th>\n",
       "      <th>RHOB</th>\n",
       "      <th>...</th>\n",
       "      <th>ROP</th>\n",
       "      <th>DTS</th>\n",
       "      <th>DCAL</th>\n",
       "      <th>DRHO</th>\n",
       "      <th>MUDWEIGHT</th>\n",
       "      <th>RMIC</th>\n",
       "      <th>ROPA</th>\n",
       "      <th>RXO</th>\n",
       "      <th>FORCE_2020_LITHOFACIES_LITHOLOGY</th>\n",
       "      <th>FORCE_2020_LITHOFACIES_CONFIDENCE</th>\n",
       "    </tr>\n",
       "  </thead>\n",
       "  <tbody>\n",
       "    <tr>\n",
       "      <th>count</th>\n",
       "      <td>18270.000000</td>\n",
       "      <td>18270.000000</td>\n",
       "      <td>18270.000000</td>\n",
       "      <td>1.827000e+04</td>\n",
       "      <td>18270.000000</td>\n",
       "      <td>18270.000000</td>\n",
       "      <td>1623.000000</td>\n",
       "      <td>18270.000000</td>\n",
       "      <td>18270.000000</td>\n",
       "      <td>18270.000000</td>\n",
       "      <td>...</td>\n",
       "      <td>18161.000000</td>\n",
       "      <td>0.0</td>\n",
       "      <td>0.0</td>\n",
       "      <td>18270.000000</td>\n",
       "      <td>17464.000000</td>\n",
       "      <td>0.0</td>\n",
       "      <td>0.0</td>\n",
       "      <td>1627.000000</td>\n",
       "      <td>18270.000000</td>\n",
       "      <td>18270.000000</td>\n",
       "    </tr>\n",
       "    <tr>\n",
       "      <th>mean</th>\n",
       "      <td>9134.500000</td>\n",
       "      <td>1883.228478</td>\n",
       "      <td>437627.322429</td>\n",
       "      <td>6.470979e+06</td>\n",
       "      <td>-1857.985240</td>\n",
       "      <td>14.789688</td>\n",
       "      <td>2.901504</td>\n",
       "      <td>1.835372</td>\n",
       "      <td>1.832040</td>\n",
       "      <td>2.110451</td>\n",
       "      <td>...</td>\n",
       "      <td>27.115614</td>\n",
       "      <td>NaN</td>\n",
       "      <td>NaN</td>\n",
       "      <td>0.012675</td>\n",
       "      <td>0.139777</td>\n",
       "      <td>NaN</td>\n",
       "      <td>NaN</td>\n",
       "      <td>5.748493</td>\n",
       "      <td>60476.696223</td>\n",
       "      <td>1.039080</td>\n",
       "    </tr>\n",
       "    <tr>\n",
       "      <th>std</th>\n",
       "      <td>5274.239045</td>\n",
       "      <td>801.941195</td>\n",
       "      <td>14.359784</td>\n",
       "      <td>3.508944e+00</td>\n",
       "      <td>801.742890</td>\n",
       "      <td>4.377047</td>\n",
       "      <td>3.474120</td>\n",
       "      <td>2.891524</td>\n",
       "      <td>2.197939</td>\n",
       "      <td>0.297725</td>\n",
       "      <td>...</td>\n",
       "      <td>30.452190</td>\n",
       "      <td>NaN</td>\n",
       "      <td>NaN</td>\n",
       "      <td>0.047393</td>\n",
       "      <td>0.009454</td>\n",
       "      <td>NaN</td>\n",
       "      <td>NaN</td>\n",
       "      <td>71.588789</td>\n",
       "      <td>13972.748152</td>\n",
       "      <td>0.276835</td>\n",
       "    </tr>\n",
       "    <tr>\n",
       "      <th>min</th>\n",
       "      <td>0.000000</td>\n",
       "      <td>494.528000</td>\n",
       "      <td>437593.343750</td>\n",
       "      <td>6.470972e+06</td>\n",
       "      <td>-3246.156250</td>\n",
       "      <td>8.186605</td>\n",
       "      <td>0.175400</td>\n",
       "      <td>0.374989</td>\n",
       "      <td>0.352202</td>\n",
       "      <td>1.404576</td>\n",
       "      <td>...</td>\n",
       "      <td>0.138586</td>\n",
       "      <td>NaN</td>\n",
       "      <td>NaN</td>\n",
       "      <td>-0.679026</td>\n",
       "      <td>0.129413</td>\n",
       "      <td>NaN</td>\n",
       "      <td>NaN</td>\n",
       "      <td>0.171424</td>\n",
       "      <td>30000.000000</td>\n",
       "      <td>1.000000</td>\n",
       "    </tr>\n",
       "    <tr>\n",
       "      <th>25%</th>\n",
       "      <td>4567.250000</td>\n",
       "      <td>1188.750000</td>\n",
       "      <td>437614.812500</td>\n",
       "      <td>6.470976e+06</td>\n",
       "      <td>-2552.392883</td>\n",
       "      <td>12.125232</td>\n",
       "      <td>0.934778</td>\n",
       "      <td>0.782044</td>\n",
       "      <td>0.799976</td>\n",
       "      <td>1.963399</td>\n",
       "      <td>...</td>\n",
       "      <td>4.727499</td>\n",
       "      <td>NaN</td>\n",
       "      <td>NaN</td>\n",
       "      <td>-0.007219</td>\n",
       "      <td>0.133007</td>\n",
       "      <td>NaN</td>\n",
       "      <td>NaN</td>\n",
       "      <td>0.934500</td>\n",
       "      <td>65000.000000</td>\n",
       "      <td>1.000000</td>\n",
       "    </tr>\n",
       "    <tr>\n",
       "      <th>50%</th>\n",
       "      <td>9134.500000</td>\n",
       "      <td>1882.972000</td>\n",
       "      <td>437631.187500</td>\n",
       "      <td>6.470978e+06</td>\n",
       "      <td>-1857.799133</td>\n",
       "      <td>13.913155</td>\n",
       "      <td>1.473143</td>\n",
       "      <td>1.211789</td>\n",
       "      <td>1.293638</td>\n",
       "      <td>2.055079</td>\n",
       "      <td>...</td>\n",
       "      <td>30.297560</td>\n",
       "      <td>NaN</td>\n",
       "      <td>NaN</td>\n",
       "      <td>0.001565</td>\n",
       "      <td>0.136602</td>\n",
       "      <td>NaN</td>\n",
       "      <td>NaN</td>\n",
       "      <td>1.455721</td>\n",
       "      <td>65000.000000</td>\n",
       "      <td>1.000000</td>\n",
       "    </tr>\n",
       "    <tr>\n",
       "      <th>75%</th>\n",
       "      <td>13701.750000</td>\n",
       "      <td>2577.802000</td>\n",
       "      <td>437640.781250</td>\n",
       "      <td>6.470982e+06</td>\n",
       "      <td>-1163.699371</td>\n",
       "      <td>18.309367</td>\n",
       "      <td>3.352066</td>\n",
       "      <td>2.067438</td>\n",
       "      <td>2.085021</td>\n",
       "      <td>2.381963</td>\n",
       "      <td>...</td>\n",
       "      <td>39.995598</td>\n",
       "      <td>NaN</td>\n",
       "      <td>NaN</td>\n",
       "      <td>0.020022</td>\n",
       "      <td>0.144990</td>\n",
       "      <td>NaN</td>\n",
       "      <td>NaN</td>\n",
       "      <td>3.464941</td>\n",
       "      <td>65000.000000</td>\n",
       "      <td>1.000000</td>\n",
       "    </tr>\n",
       "    <tr>\n",
       "      <th>max</th>\n",
       "      <td>18269.000000</td>\n",
       "      <td>3272.024000</td>\n",
       "      <td>437642.812500</td>\n",
       "      <td>6.470984e+06</td>\n",
       "      <td>-469.501831</td>\n",
       "      <td>23.329569</td>\n",
       "      <td>54.536583</td>\n",
       "      <td>142.606338</td>\n",
       "      <td>49.221905</td>\n",
       "      <td>2.927888</td>\n",
       "      <td>...</td>\n",
       "      <td>1083.425415</td>\n",
       "      <td>NaN</td>\n",
       "      <td>NaN</td>\n",
       "      <td>0.210927</td>\n",
       "      <td>0.156973</td>\n",
       "      <td>NaN</td>\n",
       "      <td>NaN</td>\n",
       "      <td>2000.000000</td>\n",
       "      <td>99000.000000</td>\n",
       "      <td>3.000000</td>\n",
       "    </tr>\n",
       "  </tbody>\n",
       "</table>\n",
       "<p>8 rows × 27 columns</p>\n",
       "</div>"
      ],
      "text/plain": [
       "         Unnamed: 0      DEPTH_MD          X_LOC         Y_LOC         Z_LOC  \\\n",
       "count  18270.000000  18270.000000   18270.000000  1.827000e+04  18270.000000   \n",
       "mean    9134.500000   1883.228478  437627.322429  6.470979e+06  -1857.985240   \n",
       "std     5274.239045    801.941195      14.359784  3.508944e+00    801.742890   \n",
       "min        0.000000    494.528000  437593.343750  6.470972e+06  -3246.156250   \n",
       "25%     4567.250000   1188.750000  437614.812500  6.470976e+06  -2552.392883   \n",
       "50%     9134.500000   1882.972000  437631.187500  6.470978e+06  -1857.799133   \n",
       "75%    13701.750000   2577.802000  437640.781250  6.470982e+06  -1163.699371   \n",
       "max    18269.000000   3272.024000  437642.812500  6.470984e+06   -469.501831   \n",
       "\n",
       "               CALI         RSHA          RMED          RDEP          RHOB  \\\n",
       "count  18270.000000  1623.000000  18270.000000  18270.000000  18270.000000   \n",
       "mean      14.789688     2.901504      1.835372      1.832040      2.110451   \n",
       "std        4.377047     3.474120      2.891524      2.197939      0.297725   \n",
       "min        8.186605     0.175400      0.374989      0.352202      1.404576   \n",
       "25%       12.125232     0.934778      0.782044      0.799976      1.963399   \n",
       "50%       13.913155     1.473143      1.211789      1.293638      2.055079   \n",
       "75%       18.309367     3.352066      2.067438      2.085021      2.381963   \n",
       "max       23.329569    54.536583    142.606338     49.221905      2.927888   \n",
       "\n",
       "       ...           ROP  DTS  DCAL          DRHO     MUDWEIGHT  RMIC  ROPA  \\\n",
       "count  ...  18161.000000  0.0   0.0  18270.000000  17464.000000   0.0   0.0   \n",
       "mean   ...     27.115614  NaN   NaN      0.012675      0.139777   NaN   NaN   \n",
       "std    ...     30.452190  NaN   NaN      0.047393      0.009454   NaN   NaN   \n",
       "min    ...      0.138586  NaN   NaN     -0.679026      0.129413   NaN   NaN   \n",
       "25%    ...      4.727499  NaN   NaN     -0.007219      0.133007   NaN   NaN   \n",
       "50%    ...     30.297560  NaN   NaN      0.001565      0.136602   NaN   NaN   \n",
       "75%    ...     39.995598  NaN   NaN      0.020022      0.144990   NaN   NaN   \n",
       "max    ...   1083.425415  NaN   NaN      0.210927      0.156973   NaN   NaN   \n",
       "\n",
       "               RXO  FORCE_2020_LITHOFACIES_LITHOLOGY  \\\n",
       "count  1627.000000                      18270.000000   \n",
       "mean      5.748493                      60476.696223   \n",
       "std      71.588789                      13972.748152   \n",
       "min       0.171424                      30000.000000   \n",
       "25%       0.934500                      65000.000000   \n",
       "50%       1.455721                      65000.000000   \n",
       "75%       3.464941                      65000.000000   \n",
       "max    2000.000000                      99000.000000   \n",
       "\n",
       "       FORCE_2020_LITHOFACIES_CONFIDENCE  \n",
       "count                       18270.000000  \n",
       "mean                            1.039080  \n",
       "std                             0.276835  \n",
       "min                             1.000000  \n",
       "25%                             1.000000  \n",
       "50%                             1.000000  \n",
       "75%                             1.000000  \n",
       "max                             3.000000  \n",
       "\n",
       "[8 rows x 27 columns]"
      ]
     },
     "metadata": {},
     "output_type": "display_data"
    }
   ],
   "source": [
    "#1. Data Investigation\n",
    "\n",
    "display('Col, Rows',df.shape)\n",
    "display('info',df.info())\n",
    "display('Null values',df.isna().sum())\n",
    "display('Null values%',df.isna().sum()/ df.shape[0] *100)\n",
    "display('normal statistics',df.describe())"
   ]
  },
  {
   "cell_type": "code",
   "execution_count": 4,
   "id": "3ba54c4b",
   "metadata": {},
   "outputs": [
    {
     "data": {
      "text/html": [
       "<div>\n",
       "<style scoped>\n",
       "    .dataframe tbody tr th:only-of-type {\n",
       "        vertical-align: middle;\n",
       "    }\n",
       "\n",
       "    .dataframe tbody tr th {\n",
       "        vertical-align: top;\n",
       "    }\n",
       "\n",
       "    .dataframe thead th {\n",
       "        text-align: right;\n",
       "    }\n",
       "</style>\n",
       "<table border=\"1\" class=\"dataframe\">\n",
       "  <thead>\n",
       "    <tr style=\"text-align: right;\">\n",
       "      <th></th>\n",
       "      <th>DTC</th>\n",
       "      <th>NPHI</th>\n",
       "      <th>GR</th>\n",
       "      <th>SP</th>\n",
       "    </tr>\n",
       "  </thead>\n",
       "  <tbody>\n",
       "    <tr>\n",
       "      <th>0</th>\n",
       "      <td>161.131180</td>\n",
       "      <td>NaN</td>\n",
       "      <td>80.200851</td>\n",
       "      <td>24.612379</td>\n",
       "    </tr>\n",
       "    <tr>\n",
       "      <th>1</th>\n",
       "      <td>160.603470</td>\n",
       "      <td>NaN</td>\n",
       "      <td>79.262886</td>\n",
       "      <td>23.895531</td>\n",
       "    </tr>\n",
       "    <tr>\n",
       "      <th>2</th>\n",
       "      <td>160.173615</td>\n",
       "      <td>NaN</td>\n",
       "      <td>74.821999</td>\n",
       "      <td>23.916357</td>\n",
       "    </tr>\n",
       "    <tr>\n",
       "      <th>3</th>\n",
       "      <td>160.149429</td>\n",
       "      <td>NaN</td>\n",
       "      <td>72.878922</td>\n",
       "      <td>23.793688</td>\n",
       "    </tr>\n",
       "    <tr>\n",
       "      <th>4</th>\n",
       "      <td>160.128342</td>\n",
       "      <td>NaN</td>\n",
       "      <td>71.729141</td>\n",
       "      <td>24.104078</td>\n",
       "    </tr>\n",
       "  </tbody>\n",
       "</table>\n",
       "</div>"
      ],
      "text/plain": [
       "          DTC  NPHI         GR         SP\n",
       "0  161.131180   NaN  80.200851  24.612379\n",
       "1  160.603470   NaN  79.262886  23.895531\n",
       "2  160.173615   NaN  74.821999  23.916357\n",
       "3  160.149429   NaN  72.878922  23.793688\n",
       "4  160.128342   NaN  71.729141  24.104078"
      ]
     },
     "execution_count": 4,
     "metadata": {},
     "output_type": "execute_result"
    }
   ],
   "source": [
    "#2. Create subset including (DT, NPHI, GR,SP) logs\n",
    "\n",
    "df_subset=df[[\"DTC\", \"NPHI\", \"GR\",\"SP\"]]\n",
    "df_subset.head()"
   ]
  },
  {
   "cell_type": "code",
   "execution_count": 5,
   "id": "ff8a52ab",
   "metadata": {},
   "outputs": [
    {
     "data": {
      "text/plain": [
       "Index(['DTC', 'NPHI', 'GR', 'SP'], dtype='object')"
      ]
     },
     "execution_count": 5,
     "metadata": {},
     "output_type": "execute_result"
    }
   ],
   "source": [
    "#3. Create a function to Normalize the well logs using formula (X-Xmin / Xmax-Xmin).\n",
    "df_subset_norm=df_subset.copy()\n",
    "df_subset_norm.keys()"
   ]
  },
  {
   "cell_type": "code",
   "execution_count": 6,
   "id": "a6cd497e",
   "metadata": {},
   "outputs": [],
   "source": [
    "#3. Create a function to Normalize the well logs using formula (X-Xmin / Xmax-Xmin).\n",
    "df_subset_norm[\"DTC\"]=(df_subset_norm[\"DTC\"]-df_subset_norm[\"DTC\"].min())/(df_subset_norm[\"DTC\"].max()-df_subset_norm[\"DTC\"].min())\n",
    "df_subset_norm[\"NPHI\"]=(df_subset_norm[\"NPHI\"]-df_subset_norm[\"NPHI\"].min())/(df_subset_norm[\"NPHI\"].max()-df_subset_norm[\"NPHI\"].min())\n",
    "df_subset_norm[\"GR\"]=(df_subset_norm[\"GR\"]-df_subset_norm[\"GR\"].min())/(df_subset_norm[\"GR\"].max()-df_subset_norm[\"GR\"].min())\n",
    "df_subset_norm[\"SP\"]=(df_subset_norm[\"SP\"]-df_subset_norm[\"SP\"].min())/(df_subset_norm[\"SP\"].max()-df_subset_norm[\"SP\"].min())"
   ]
  },
  {
   "cell_type": "code",
   "execution_count": 7,
   "id": "57f7a768",
   "metadata": {},
   "outputs": [
    {
     "data": {
      "text/plain": [
       "'min'"
      ]
     },
     "metadata": {},
     "output_type": "display_data"
    },
    {
     "data": {
      "text/plain": [
       "DTC     0.0\n",
       "NPHI    0.0\n",
       "GR      0.0\n",
       "SP      0.0\n",
       "dtype: float64"
      ]
     },
     "metadata": {},
     "output_type": "display_data"
    },
    {
     "data": {
      "text/plain": [
       "'max'"
      ]
     },
     "metadata": {},
     "output_type": "display_data"
    },
    {
     "data": {
      "text/plain": [
       "DTC     1.0\n",
       "NPHI    1.0\n",
       "GR      1.0\n",
       "SP      1.0\n",
       "dtype: float64"
      ]
     },
     "metadata": {},
     "output_type": "display_data"
    }
   ],
   "source": [
    "#test Normalization output\n",
    "display(\"min\", df_subset_norm.min())\n",
    "display(\"max\", df_subset_norm.max())"
   ]
  },
  {
   "cell_type": "code",
   "execution_count": 8,
   "id": "c46b6c27",
   "metadata": {},
   "outputs": [
    {
     "data": {
      "text/html": [
       "<div>\n",
       "<style scoped>\n",
       "    .dataframe tbody tr th:only-of-type {\n",
       "        vertical-align: middle;\n",
       "    }\n",
       "\n",
       "    .dataframe tbody tr th {\n",
       "        vertical-align: top;\n",
       "    }\n",
       "\n",
       "    .dataframe thead th {\n",
       "        text-align: right;\n",
       "    }\n",
       "</style>\n",
       "<table border=\"1\" class=\"dataframe\">\n",
       "  <thead>\n",
       "    <tr style=\"text-align: right;\">\n",
       "      <th></th>\n",
       "      <th>DTC</th>\n",
       "      <th>NPHI</th>\n",
       "      <th>GR</th>\n",
       "      <th>SP</th>\n",
       "    </tr>\n",
       "  </thead>\n",
       "  <tbody>\n",
       "    <tr>\n",
       "      <th>0</th>\n",
       "      <td>161.131180</td>\n",
       "      <td>NaN</td>\n",
       "      <td>80.200851</td>\n",
       "      <td>24.612379</td>\n",
       "    </tr>\n",
       "    <tr>\n",
       "      <th>1</th>\n",
       "      <td>160.603470</td>\n",
       "      <td>NaN</td>\n",
       "      <td>79.262886</td>\n",
       "      <td>23.895531</td>\n",
       "    </tr>\n",
       "    <tr>\n",
       "      <th>2</th>\n",
       "      <td>160.173615</td>\n",
       "      <td>NaN</td>\n",
       "      <td>74.821999</td>\n",
       "      <td>23.916357</td>\n",
       "    </tr>\n",
       "    <tr>\n",
       "      <th>3</th>\n",
       "      <td>160.149429</td>\n",
       "      <td>NaN</td>\n",
       "      <td>72.878922</td>\n",
       "      <td>23.793688</td>\n",
       "    </tr>\n",
       "    <tr>\n",
       "      <th>4</th>\n",
       "      <td>160.128342</td>\n",
       "      <td>NaN</td>\n",
       "      <td>71.729141</td>\n",
       "      <td>24.104078</td>\n",
       "    </tr>\n",
       "  </tbody>\n",
       "</table>\n",
       "</div>"
      ],
      "text/plain": [
       "          DTC  NPHI         GR         SP\n",
       "0  161.131180   NaN  80.200851  24.612379\n",
       "1  160.603470   NaN  79.262886  23.895531\n",
       "2  160.173615   NaN  74.821999  23.916357\n",
       "3  160.149429   NaN  72.878922  23.793688\n",
       "4  160.128342   NaN  71.729141  24.104078"
      ]
     },
     "execution_count": 8,
     "metadata": {},
     "output_type": "execute_result"
    }
   ],
   "source": [
    "#4. Create a function to Standardize the well logs using formula (X-mean / standard deviation).\n",
    "df_subset_std=df_subset.copy()\n",
    "df_subset_std.head()"
   ]
  },
  {
   "cell_type": "code",
   "execution_count": 9,
   "id": "d7d0af9f",
   "metadata": {},
   "outputs": [
    {
     "data": {
      "text/plain": [
       "'mean'"
      ]
     },
     "metadata": {},
     "output_type": "display_data"
    },
    {
     "data": {
      "text/plain": [
       "DTC     125.106178\n",
       "NPHI      0.404547\n",
       "GR       63.847477\n",
       "SP       70.711441\n",
       "dtype: float64"
      ]
     },
     "metadata": {},
     "output_type": "display_data"
    },
    {
     "data": {
      "text/plain": [
       "'standard deviation'"
      ]
     },
     "metadata": {},
     "output_type": "display_data"
    },
    {
     "data": {
      "text/plain": [
       "DTC     30.618337\n",
       "NPHI     0.133532\n",
       "GR      28.636331\n",
       "SP      33.807814\n",
       "dtype: float64"
      ]
     },
     "metadata": {},
     "output_type": "display_data"
    }
   ],
   "source": [
    "#test functions\n",
    "display(\"mean\", df_subset_std.mean())\n",
    "display(\"standard deviation\", df_subset_std.std())"
   ]
  },
  {
   "cell_type": "code",
   "execution_count": 10,
   "id": "7fe9ff22",
   "metadata": {},
   "outputs": [],
   "source": [
    "#Create a function to Standardize the well logs using formula (X-mean / standard deviation).\n",
    "df_subset_std[\"DTC\"]=(df_subset_std[\"DTC\"]-df_subset_std[\"DTC\"].mean())/df_subset_std[\"DTC\"].std()\n",
    "df_subset_std[\"NPHI\"]=(df_subset_std[\"NPHI\"]-df_subset_std[\"NPHI\"].mean())/df_subset_std[\"NPHI\"].std()\n",
    "df_subset_std[\"GR\"]=(df_subset_std[\"GR\"]-df_subset_std[\"GR\"].mean())/df_subset_std[\"GR\"].std()\n",
    "df_subset_std[\"SP\"]=(df_subset_std[\"SP\"]-df_subset_std[\"SP\"].mean())/df_subset_std[\"SP\"].std()\n"
   ]
  },
  {
   "cell_type": "code",
   "execution_count": 13,
   "id": "fd31f9cf",
   "metadata": {},
   "outputs": [
    {
     "data": {
      "text/plain": [
       "'Normalized logs'"
      ]
     },
     "metadata": {},
     "output_type": "display_data"
    },
    {
     "data": {
      "text/plain": [
       "array([[<AxesSubplot:title={'center':'DTC'}>,\n",
       "        <AxesSubplot:title={'center':'NPHI'}>],\n",
       "       [<AxesSubplot:title={'center':'GR'}>,\n",
       "        <AxesSubplot:title={'center':'SP'}>]], dtype=object)"
      ]
     },
     "metadata": {},
     "output_type": "display_data"
    },
    {
     "data": {
      "image/png": "[encoded data removed]",
      "text/plain": [
       "<Figure size 720x720 with 4 Axes>"
      ]
     },
     "metadata": {
      "needs_background": "light"
     },
     "output_type": "display_data"
    }
   ],
   "source": [
    "#5. Plot histogram of the normalized and standardized well logs\n",
    "display('Normalized logs',df_subset_norm.hist(figsize=(10,10)))"
   ]
  },
  {
   "cell_type": "code",
   "execution_count": 14,
   "id": "e8d17b21",
   "metadata": {},
   "outputs": [
    {
     "data": {
      "text/plain": [
       "'Standardized logs'"
      ]
     },
     "metadata": {},
     "output_type": "display_data"
    },
    {
     "data": {
      "text/plain": [
       "array([[<AxesSubplot:title={'center':'DTC'}>,\n",
       "        <AxesSubplot:title={'center':'NPHI'}>],\n",
       "       [<AxesSubplot:title={'center':'GR'}>,\n",
       "        <AxesSubplot:title={'center':'SP'}>]], dtype=object)"
      ]
     },
     "metadata": {},
     "output_type": "display_data"
    },
    {
     "data": {
      "image/png": "[encoded data removed]",
      "text/plain": [
       "<Figure size 720x720 with 4 Axes>"
      ]
     },
     "metadata": {
      "needs_background": "light"
     },
     "output_type": "display_data"
    }
   ],
   "source": [
    "#Plot histogram of the normalized and standardized well logs\n",
    "display('Standardized logs',df_subset_std.hist(figsize=(10,10)))"
   ]
  }
 ],
 "metadata": {
  "kernelspec": {
   "display_name": "Python 3",
   "language": "python",
   "name": "python3"
  },
  "language_info": {
   "codemirror_mode": {
    "name": "ipython",
    "version": 3
   },
   "file_extension": ".py",
   "mimetype": "text/x-python",
   "name": "python",
   "nbconvert_exporter": "python",
   "pygments_lexer": "ipython3",
   "version": "3.9.5"
  },
  "toc": {
   "base_numbering": 1,
   "nav_menu": {},
   "number_sections": false,
   "sideBar": true,
   "skip_h1_title": true,
   "title_cell": "Table of Contents",
   "title_sidebar": "Contents",
   "toc_cell": false,
   "toc_position": {},
   "toc_section_display": true,
   "toc_window_display": false
  },
  "varInspector": {
   "cols": {
    "lenName": 16,
    "lenType": 16,
    "lenVar": 40
   },
   "kernels_config": {
    "python": {
     "delete_cmd_postfix": "",
     "delete_cmd_prefix": "del ",
     "library": "var_list.py",
     "varRefreshCmd": "print(var_dic_list())"
    },
    "r": {
     "delete_cmd_postfix": ") ",
     "delete_cmd_prefix": "rm(",
     "library": "var_list.r",
     "varRefreshCmd": "cat(var_dic_list()) "
    }
   },
   "types_to_exclude": [
    "module",
    "function",
    "builtin_function_or_method",
    "instance",
    "_Feature"
   ],
   "window_display": false
  }
 },
 "nbformat": 4,
 "nbformat_minor": 5
}
